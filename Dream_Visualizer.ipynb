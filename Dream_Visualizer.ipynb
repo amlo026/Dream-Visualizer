{
  "nbformat": 4,
  "nbformat_minor": 0,
  "metadata": {
    "colab": {
      "provenance": []
    },
    "kernelspec": {
      "name": "python3",
      "display_name": "Python 3"
    },
    "language_info": {
      "name": "python"
    }
  },
  "cells": [
    {
      "cell_type": "markdown",
      "source": [
        "## Follow these instuctions before executing code\n",
        "* Make .streamlit folder\n",
        "* Make secrets.toml file in the folder\n",
        "* Paste GOOGLE_API_KEY = \"replace_with_your_api_key\"\n",
        "* Save"
      ],
      "metadata": {
        "id": "aYOh4-5Kq5ei"
      }
    },
    {
      "cell_type": "code",
      "source": [
        "#Problem Statement: This Dream Visualizer uses AI to turn written dreams into images and poetic summaries,\n",
        "#making it easier to remember, understand, and express those experiences.\"\n",
        "\n",
        "#Import statements\n",
        "from google import genai\n",
        "from google.genai import types\n",
        "from PIL import Image\n",
        "from io import BytesIO\n",
        "from IPython.display import display, clear_output\n",
        "import base64\n"
      ],
      "metadata": {
        "id": "SiLAfi7CKWmD"
      },
      "execution_count": null,
      "outputs": []
    },
    {
      "cell_type": "code",
      "source": [
        "from google.colab import userdata\n",
        "\n",
        "GOOGLE_API_KEY = userdata.get('GOOGLE_API_KEY')"
      ],
      "metadata": {
        "id": "64P0RVEtKX1A"
      },
      "execution_count": null,
      "outputs": []
    },
    {
      "cell_type": "code",
      "source": [
        "client = genai.Client(api_key=GOOGLE_API_KEY)"
      ],
      "metadata": {
        "id": "c-NTv2ZaKZWL"
      },
      "execution_count": null,
      "outputs": []
    },
    {
      "cell_type": "code",
      "source": [
        "#Input prompt here\n",
        "contents = input(\"Explain your dream here: \")"
      ],
      "metadata": {
        "id": "ZkBMSnIhKbji"
      },
      "execution_count": null,
      "outputs": []
    },
    {
      "cell_type": "code",
      "source": [
        "#Asking AI to\n",
        "interpret_prompt = f\"\"\"\n",
        "\n",
        "I had the following dream:\n",
        "\n",
        "\"{contents}\"\n",
        "\n",
        "This was just a dream. Please interpret what this dream might mean and any psychological insights. Do not treat this as a real event.\n",
        "\n",
        "\"\"\""
      ],
      "metadata": {
        "id": "tr3eegplKc7D"
      },
      "execution_count": null,
      "outputs": []
    },
    {
      "cell_type": "code",
      "source": [
        "response = client.models.generate_content(\n",
        "    model=\"gemini-2.0-flash-lite\",\n",
        "    contents=contents,\n",
        "    config=types.GenerateContentConfig(\n",
        "      response_modalities=['TEXT', 'TEXT']\n",
        "    )\n",
        ")"
      ],
      "metadata": {
        "id": "a_UNgbiiKhFd"
      },
      "execution_count": null,
      "outputs": []
    },
    {
      "cell_type": "code",
      "source": [
        "for part in response.candidates[0].content.parts:\n",
        "    if part.text is not None:\n",
        "        print(\"Dream Interpretation:\")\n",
        "        print(part.text)"
      ],
      "metadata": {
        "id": "E6hXsVN9KiWL"
      },
      "execution_count": null,
      "outputs": []
    },
    {
      "cell_type": "code",
      "source": [
        "response = client.models.generate_content(\n",
        "    model=\"gemini-2.0-flash-preview-image-generation\",\n",
        "    contents=contents,\n",
        "    config=types.GenerateContentConfig(\n",
        "      response_modalities=['TEXT', 'IMAGE']\n",
        "    )\n",
        ")"
      ],
      "metadata": {
        "id": "VkE4gArhKjhK"
      },
      "execution_count": null,
      "outputs": []
    },
    {
      "cell_type": "code",
      "source": [
        "for part in response.candidates[0].content.parts:\n",
        "    if part.text is not None:\n",
        "        pass  #Or do something with the text part if needed\n",
        "    elif part.inline_data is not None:\n",
        "        image = Image.open(BytesIO(part.inline_data.data))"
      ],
      "metadata": {
        "id": "jq49Gk1xKlZf"
      },
      "execution_count": null,
      "outputs": []
    },
    {
      "cell_type": "code",
      "source": [
        "#Prints out image\n",
        "print(\"Dream Image:\")\n",
        "print(contents)\n",
        "display(image)"
      ],
      "metadata": {
        "id": "kwy8Tk7pKoge"
      },
      "execution_count": null,
      "outputs": []
    },
    {
      "cell_type": "code",
      "source": [
        "import asyncio\n",
        "import io\n",
        "import wave\n",
        "import nest_asyncio\n",
        "from IPython.display import Audio, display"
      ],
      "metadata": {
        "id": "svywleDLKqvZ"
      },
      "execution_count": null,
      "outputs": []
    },
    {
      "cell_type": "code",
      "source": [
        "nest_asyncio.apply()"
      ],
      "metadata": {
        "id": "n53-I3iiKsFl"
      },
      "execution_count": null,
      "outputs": []
    },
    {
      "cell_type": "code",
      "source": [
        "dream_prompt = contents   #Take dream \"contents\" to generate music\n",
        "bpm = 85          #Can be modified\n",
        "temperature = 1.0\n",
        "duration = 15 #How long the audio will be"
      ],
      "metadata": {
        "id": "W9KZAtmHKtXf"
      },
      "execution_count": null,
      "outputs": []
    },
    {
      "cell_type": "code",
      "source": [
        "music_client = genai.Client(\n",
        "    api_key=GOOGLE_API_KEY,\n",
        "    http_options={\"api_version\": \"v1alpha\"}\n",
        ")"
      ],
      "metadata": {
        "id": "PgOfn0uaKu0W"
      },
      "execution_count": null,
      "outputs": []
    },
    {
      "cell_type": "code",
      "source": [
        "#Async function to generate music from dream prompt\n",
        "async def generate_music_from_dream():\n",
        "    buffer = io.BytesIO()\n",
        "    filename = \"dream_music.wav\" #naming the music file to be generated\n",
        "\n",
        "#Define the music generation routine\n",
        "    async def receive_audio(session):\n",
        "        async for message in session.receive():\n",
        "            data = message.server_content.audio_chunks[0].data\n",
        "            buffer.write(data)\n",
        "\n",
        "            if buffer.tell() > 48000 * 2 * 2 * duration:\n",
        "                break\n",
        "        buffer.seek(0)\n",
        "        with wave.open(filename, \"wb\") as wf:\n",
        "            wf.setnchannels(2)\n",
        "            wf.setsampwidth(2)\n",
        "            wf.setframerate(48000)\n",
        "            wf.writeframes(buffer.read())\n",
        "\n",
        "    async with (\n",
        "        music_client.aio.live.music.connect(model=\"models/lyria-realtime-exp\") as session,\n",
        "        asyncio.TaskGroup() as tg,\n",
        "    ):\n",
        "        tg.create_task(receive_audio(session))\n",
        "\n",
        "        #Using the dream_prompt to make the music\n",
        "        await session.set_weighted_prompts([\n",
        "            types.WeightedPrompt(text=dream_prompt, weight=1.0) #  Weight 1 to match the dream\n",
        "        ])\n",
        "        await session.set_music_generation_config(\n",
        "            config=types.LiveMusicGenerationConfig(\n",
        "                bpm=bpm,\n",
        "                temperature=temperature\n",
        "            )\n",
        "        )\n",
        "        await session.play()\n",
        "\n",
        "    return filename\n"
      ],
      "metadata": {
        "id": "D_H3V897KwFV"
      },
      "execution_count": null,
      "outputs": []
    },
    {
      "cell_type": "code",
      "source": [
        "dream_music_file = await generate_music_from_dream()\n",
        "display(Audio(dream_music_file))"
      ],
      "metadata": {
        "id": "zdklkRy5Kxmu"
      },
      "execution_count": null,
      "outputs": []
    },
    {
      "cell_type": "markdown",
      "source": [
        "# Creating the App"
      ],
      "metadata": {
        "id": "UPOmikqxo5kO"
      }
    },
    {
      "cell_type": "code",
      "execution_count": null,
      "metadata": {
        "id": "STKnmIYBj75Q"
      },
      "outputs": [],
      "source": [
        "!pip install streamlit -q"
      ]
    },
    {
      "cell_type": "code",
      "source": [
        "!pip install python-dotenv -q"
      ],
      "metadata": {
        "id": "XSciOExMoSkd"
      },
      "execution_count": null,
      "outputs": []
    },
    {
      "cell_type": "code",
      "metadata": {
        "id": "e3cda4c4"
      },
      "source": [
        "%%writefile app.py\n",
        "import streamlit as st\n",
        "from google import genai\n",
        "from google.genai import types\n",
        "from PIL import Image\n",
        "from io import BytesIO\n",
        "import base64\n",
        "import asyncio\n",
        "import io\n",
        "import wave\n",
        "import nest_asyncio\n",
        "from IPython.display import Audio, display #Note: IPython.display is not directly used in Streamlit, will need to adapt\n",
        "\n",
        "#Apply compatibility with asyncio in environments like Colab (if running Streamlit within Colab)\n",
        "nest_asyncio.apply()\n",
        "\n",
        "#Get the API key from environment variables or Streamlit secrets\n",
        "#Assuming GOOGLE_API_KEY is available as a secret or environment variable\n",
        "GOOGLE_API_KEY = st.secrets[\"GOOGLE_API_KEY\"]\n",
        "\n",
        "#Initialize the GenAI client\n",
        "client = genai.Client(api_key=GOOGLE_API_KEY)\n",
        "\n",
        "#Initialize the music client\n",
        "music_client = genai.Client(\n",
        "    api_key=GOOGLE_API_KEY,\n",
        "    http_options={\"api_version\": \"v1alpha\"}\n",
        ")\n",
        "\n",
        "#Async function to generate music from dream prompt\n",
        "async def generate_music_from_dream(dream_prompt, bpm=85, temperature=1.0, duration=15):\n",
        "    buffer = io.BytesIO()\n",
        "    filename = \"dream_music.wav\"\n",
        "\n",
        "#Define the music generation routine\n",
        "    async def receive_audio(session):\n",
        "        async for message in session.receive():\n",
        "            data = message.server_content.audio_chunks[0].data\n",
        "            buffer.write(data)\n",
        "\n",
        "            if buffer.tell() > 48000 * 2 * 2 * duration:\n",
        "                break\n",
        "        buffer.seek(0)\n",
        "        with wave.open(filename, \"wb\") as wf:\n",
        "            wf.setnchannels(2)\n",
        "            wf.setsampwidth(2)\n",
        "            wf.setframerate(48000)\n",
        "            wf.writeframes(buffer.read())\n",
        "\n",
        "    async with (\n",
        "        music_client.aio.live.music.connect(model=\"models/lyria-realtime-exp\") as session,\n",
        "        asyncio.TaskGroup() as tg,\n",
        "    ):\n",
        "        tg.create_task(receive_audio(session))\n",
        "\n",
        "        #Using the dream_prompt to make the music\n",
        "        await session.set_weighted_prompts([\n",
        "            types.WeightedPrompt(text=dream_prompt, weight=1.0)\n",
        "        ])\n",
        "        await session.set_music_generation_config(\n",
        "            config=types.LiveMusicGenerationConfig(\n",
        "                bpm=bpm,\n",
        "                temperature=temperature\n",
        "            )\n",
        "        )\n",
        "        await session.play()\n",
        "\n",
        "    return filename\n",
        "\n",
        "#Streamlit UI\n",
        "st.title(\"Dream Visualizer\")\n",
        "\n",
        "st.markdown(\"\"\"\n",
        "This app uses AI to take written dreams, provides an interpretation of it, and creates an image and audio to\n",
        "make it easier to remember, understand, and express those experiences.\n",
        "\"\"\")\n",
        "\n",
        "dream_input = st.text_area(\"Explain your dream here:\", height=150)\n",
        "\n",
        "if st.button(\"Generate Dream Insights\"):\n",
        "    if dream_input:\n",
        "        st.subheader(\"Dream Interpretation:\")\n",
        "        #Interpret the dream\n",
        "        interpret_prompt = f\"\"\"\n",
        "        I had the following dream:\n",
        "        \"{dream_input}\"\n",
        "        This was just a dream. Please interpret what this dream might mean and any psychological insights. Do not treat this as a real event.\n",
        "        \"\"\"\n",
        "        try:\n",
        "            interpret_response = client.models.generate_content(\n",
        "                model=\"gemini-2.0-flash-lite\",\n",
        "                contents=interpret_prompt,\n",
        "                config=types.GenerateContentConfig(\n",
        "                  response_modalities=['TEXT'] #Only need text for interpretation\n",
        "                )\n",
        "            )\n",
        "            for part in interpret_response.candidates[0].content.parts:\n",
        "                if part.text is not None:\n",
        "                    st.write(part.text)\n",
        "        except Exception as e:\n",
        "            st.error(f\"Error generating interpretation: {e}\")\n",
        "\n",
        "        st.subheader(\"Dream Visualization:\")\n",
        "        #Generate image from the dream\n",
        "        try:\n",
        "            image_response = client.models.generate_content(\n",
        "                model=\"gemini-2.0-flash-preview-image-generation\",\n",
        "                contents=dream_input,\n",
        "                config=types.GenerateContentConfig(\n",
        "                  response_modalities=['TEXT', 'IMAGE'] #Only need image\n",
        "                )\n",
        "            )\n",
        "            for part in image_response.candidates[0].content.parts:\n",
        "                 if part.inline_data is not None:\n",
        "                    image = Image.open(BytesIO(part.inline_data.data))\n",
        "                    st.image(image, caption=\"Your Dream Image\")\n",
        "        except Exception as e:\n",
        "            st.error(f\"Error generating image: {e}\")\n",
        "\n",
        "        st.subheader(\"Dream Soundtrack:\")\n",
        "        #Generate music from the dream\n",
        "        try:\n",
        "            #Run the async music generation function\n",
        "            dream_music_file = asyncio.run(generate_music_from_dream(dream_input))\n",
        "            st.audio(dream_music_file)\n",
        "        except Exception as e:\n",
        "            st.error(f\"Error generating music: {e}\")\n",
        "\n",
        "    else:\n",
        "        st.warning(\"Please enter your dream description to generate insights.\")"
      ],
      "execution_count": null,
      "outputs": []
    },
    {
      "cell_type": "code",
      "source": [
        "!npm install localtunnel -q"
      ],
      "metadata": {
        "id": "nCJrbWyjoa6B"
      },
      "execution_count": null,
      "outputs": []
    },
    {
      "cell_type": "code",
      "source": [
        "!streamlit run app.py &>/content/logs.txt & curl ipv4.icanhazip.com"
      ],
      "metadata": {
        "id": "jq2h5AWWobwV"
      },
      "execution_count": null,
      "outputs": []
    },
    {
      "cell_type": "code",
      "source": [
        "!npx localtunnel --port 8501"
      ],
      "metadata": {
        "colab": {
          "base_uri": "https://localhost:8080/"
        },
        "id": "AinvHEPSoeDC",
        "outputId": "7429fb29-12e3-4862-aae4-dad3c546fc7c"
      },
      "execution_count": null,
      "outputs": [
        {
          "output_type": "stream",
          "name": "stdout",
          "text": [
            "\u001b[1G\u001b[0K⠙\u001b[1G\u001b[0K⠹\u001b[1G\u001b[0Kyour url is: https://grumpy-tigers-invite.loca.lt\n",
            "^C\n"
          ]
        }
      ]
    }
  ]
}